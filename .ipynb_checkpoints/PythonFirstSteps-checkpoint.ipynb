{
 "cells": [
  {
   "cell_type": "code",
   "execution_count": 1,
   "metadata": {},
   "outputs": [
    {
     "name": "stdout",
     "output_type": "stream",
     "text": [
      "Hello, Suman\n"
     ]
    }
   ],
   "source": [
    "my_name = \"Suman\"\n",
    "hello_statement = \"Hello, \" + my_name\n",
    "print(hello_statement)"
   ]
  },
  {
   "cell_type": "code",
   "execution_count": 2,
   "metadata": {},
   "outputs": [
    {
     "name": "stdout",
     "output_type": "stream",
     "text": [
      "i=1, x=11\n",
      "i=2, x=13\n",
      "i=3, x=16\n",
      "i=4, x=20\n"
     ]
    }
   ],
   "source": [
    "x = 10\n",
    "for i in range(1, 5):\n",
    "    x = x + i\n",
    "    print(\"i={0}, x={1}\".format(i,x))"
   ]
  },
  {
   "cell_type": "code",
   "execution_count": null,
   "metadata": {},
   "outputs": [],
   "source": []
  }
 ],
 "metadata": {
  "kernelspec": {
   "display_name": "Python 3",
   "language": "python",
   "name": "python3"
  },
  "language_info": {
   "codemirror_mode": {
    "name": "ipython",
    "version": 3
   },
   "file_extension": ".py",
   "mimetype": "text/x-python",
   "name": "python",
   "nbconvert_exporter": "python",
   "pygments_lexer": "ipython3",
   "version": "3.6.4"
  }
 },
 "nbformat": 4,
 "nbformat_minor": 2
}
